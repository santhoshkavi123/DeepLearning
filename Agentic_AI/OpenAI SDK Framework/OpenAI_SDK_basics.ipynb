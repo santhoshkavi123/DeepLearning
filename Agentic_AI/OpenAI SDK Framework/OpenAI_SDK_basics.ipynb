{
 "cells": [
  {
   "cell_type": "code",
   "execution_count": 34,
   "id": "378ac88e",
   "metadata": {},
   "outputs": [],
   "source": [
    "# Importing basic packages\n",
    "import os\n",
    "import warnings\n",
    "warnings.filterwarnings('ignore')\n",
    "\n",
    "# to load env variables\n",
    "from dotenv import load_dotenv\n",
    "from openai import OpenAI # OpenAI llm\n",
    "from agents import Agent, Runner, trace, Handoff, OpenAIChatCompletionsModel # OpenAI SDK primitives\n",
    "from openai.types.responses import ResponseTextDeltaEvent\n",
    "\n",
    "from openai import AsyncOpenAI\n",
    "\n",
    "# asynio\n",
    "import asyncio\n",
    "\n",
    "# Decorator Packages\n",
    "from IPython.display import display, Markdown\n",
    "from typing import Dict, List\n"
   ]
  },
  {
   "cell_type": "code",
   "execution_count": 20,
   "id": "e6a6be76",
   "metadata": {},
   "outputs": [
    {
     "data": {
      "text/plain": [
       "True"
      ]
     },
     "execution_count": 20,
     "metadata": {},
     "output_type": "execute_result"
    }
   ],
   "source": [
    "load_dotenv(override = True)"
   ]
  },
  {
   "cell_type": "code",
   "execution_count": 32,
   "id": "a62e2f70",
   "metadata": {},
   "outputs": [],
   "source": [
    "GOOGLE_API_KEY = os.getenv(\"GOOGLE_API_KEY\")"
   ]
  },
  {
   "cell_type": "markdown",
   "id": "533f0c3e",
   "metadata": {},
   "source": [
    "# Let's create three agents \n",
    "\n",
    "- We need to define instructions what the agent do - you can think of system prompt\n",
    "- Call openai sdk agent by defining name, instructions and model"
   ]
  },
  {
   "cell_type": "code",
   "execution_count": 21,
   "id": "6884d155",
   "metadata": {},
   "outputs": [],
   "source": [
    "instructions1  = \"You are a sales agent working for Unilever, a company that produces wide range of products related to health care, deodrants & fagrance, icecream, laundry etc., . \\\n",
    "    You write professional, serious cold emails\"\n",
    "\n",
    "instructions2 = \"You are a humorous sales agent working for Unilever, a company that produces wide range of products related to health care, deodrants & fagrance, icecream, laundry etc., . \\\n",
    "    You write witty, engaging cold emails that are likely to get a response\"\n",
    "\n",
    "instructions3 = \"You are a humorous sales agent working for Unilever, a company that produces wide range of products related to health care, deodrants & fagrance, icecream, laundry etc., . \\\n",
    "    You write concise, to the point cold emails\"\n"
   ]
  },
  {
   "cell_type": "code",
   "execution_count": 27,
   "id": "ebe82b7d",
   "metadata": {},
   "outputs": [],
   "source": [
    "# Professional Sales Agent\n",
    "sales_agent1 = Agent(name = \"Professional Sales Agent\", \n",
    "      instructions = instructions1,\n",
    "      model = \"gpt-4o-mini\")\n",
    "\n",
    "\n",
    "# Engaging Sales Agent\n",
    "sales_agent2 = Agent(name = \"Engaging Sales Agent\", \n",
    "                     instructions = instructions2,\n",
    "                     model = \"gpt-4o-mini\")\n",
    "\n",
    "# Busy Sales Agent\n",
    "sales_agent3 = Agent(name = \"Busy Sales Agent\", \n",
    "                     instructions = instructions3,\n",
    "                     model = \"gpt-4o-mini\")"
   ]
  },
  {
   "cell_type": "code",
   "execution_count": 25,
   "id": "4956cbe6",
   "metadata": {},
   "outputs": [
    {
     "name": "stdout",
     "output_type": "stream",
     "text": [
      "Subject: Elevate Your Product Offering with Unilever’s Trusted Brands\n",
      "\n",
      "Dear [Recipient's Name],\n",
      "\n",
      "I hope this message finds you well. My name is [Your Name], and I’m reaching out to introduce you to Unilever’s diverse portfolio of products that have been trusted by consumers worldwide for their quality and innovation.\n",
      "\n",
      "At Unilever, we pride ourselves on delivering solutions across various categories, including health care, personal care, laundry, and food. Our commitment to sustainability and consumer satisfaction drives us to continuously enhance our offerings, ensuring that we meet the evolving needs of the market.\n",
      "\n",
      "I believe your business could greatly benefit from adding our products to your lineup. For example, our [specific product or category] has seen remarkable success and could resonate well with your customer base.\n",
      "\n",
      "Would you be open to a brief conversation next week to discuss how a partnership with Unilever could enhance your product offerings and drive sales? I would be happy to tailor the discussion to your specific needs and explore potential synergies.\n",
      "\n",
      "Thank you for considering this opportunity. I look forward to your response.\n",
      "\n",
      "Best regards,\n",
      "\n",
      "[Your Name]  \n",
      "[Your Position]  \n",
      "Unilever  \n",
      "[Your Phone Number]  \n",
      "[Your Email Address]  \n",
      "[Your LinkedIn Profile (if applicable)]  \n",
      "\n",
      "--- \n",
      "\n",
      "Feel free to adjust any specific details to better fit your style or the recipient's business!"
     ]
    }
   ],
   "source": [
    "result = Runner.run_streamed(sales_agent1, input = \"Write a cold sales email\")\n",
    "async for event in result.stream_events():\n",
    "    if event.type == \"raw_response_event\" and isinstance(event.data, ResponseTextDeltaEvent):\n",
    "        print(event.data.delta, end = \"\", flush = True)"
   ]
  },
  {
   "cell_type": "code",
   "execution_count": 28,
   "id": "103e1816",
   "metadata": {},
   "outputs": [],
   "source": [
    "message = \"Write a cold sales email\"\n",
    "\n",
    "with trace(\"Parallel cold emails\"): # Trace helps you record the progress of the calls in \n",
    "    results = await asyncio.gather(\n",
    "        Runner.run(sales_agent1, message),\n",
    "        Runner.run(sales_agent2, message),\n",
    "        Runner.run(sales_agent3, message)\n",
    "    )\n",
    "\n",
    "# "
   ]
  },
  {
   "cell_type": "code",
   "execution_count": 30,
   "id": "7376d7f8",
   "metadata": {},
   "outputs": [
    {
     "name": "stdout",
     "output_type": "stream",
     "text": [
      "Subject: Elevate Your Offerings with Unilever's Premium Products\n",
      "\n",
      "Dear [Recipient's Name],\n",
      "\n",
      "I hope this message finds you well. My name is [Your Name], and I am a sales representative at Unilever, a global leader in consumer goods with a diverse portfolio spanning health care, personal care, household products, and more.\n",
      "\n",
      "We recognize that [Recipient's Company Name] is committed to delivering quality and value to your customers. I would like to explore how our premium products can enhance your offerings and drive sales for your business.\n",
      "\n",
      "Our range includes:\n",
      "\n",
      "- **Personal Care**: From trusted deodorants to luxurious fragrances, we have solutions that cater to diverse consumer preferences.\n",
      "- **Health Care**: Our innovative products support wellness and self-care in today’s fast-paced world.\n",
      "- **Ice Cream**: Our delightful range of ice creams appeals to all age groups, providing cake and indulgence that drives repeat purchases.\n",
      "- **Laundry**: Our effective detergents simplify laundry while caring for fabrics.\n",
      "\n",
      "Partnering with Unilever means access to cutting-edge research and marketing support that positions your inventory for success.\n",
      "\n",
      "I would love the opportunity to discuss how we can collaborate to meet your business needs and exceed your customers' expectations. Are you available for a brief call or meeting next week?\n",
      "\n",
      "Thank you for considering this opportunity. I look forward to your response.\n",
      "\n",
      "Best regards,\n",
      "\n",
      "[Your Name]  \n",
      "[Your Position]   \n",
      "Unilever  \n",
      "[Your Phone Number]  \n",
      "[Your Email Address]  \n",
      "\n",
      "\n",
      "Subject: Ice Cream and Deodorant—Our Secret to World Domination 🥳\n",
      "\n",
      "Hi [Recipient's Name],\n",
      "\n",
      "I hope this email finds you in high spirits (and smelling fresh)! As a fellow lover of all things delightful, I wanted to introduce you to our extraordinary portfolio at Unilever—where ice cream dreams and odor-fighting magic collide. 🍦✨\n",
      "\n",
      "Imagine a world where you indulge in irresistibly creamy ice cream while confidently strutting your stuff, odor-free. That’s not just a fantasy; it’s what we do every day! \n",
      "\n",
      "Whether you’re in need of products that keep people coming back for more (like our famous ice creams) or solutions that make sure nobody runs away from you when you enter a room (like our trusty deodorants), we’ve got you covered!\n",
      "\n",
      "Here’s the scoop: \n",
      "\n",
      "1. **Ice Cream**: Seriously, who doesn’t love ice cream? Whether it’s a hot summer day or a cozy binge-watching session, our treats can make any moment sweeter.\n",
      "2. **Deodorants & Fragrances**: Because nobody wants to be known as \"that guy\" or \"that gal.\" Let’s work together to keep you smelling like a summer breeze!\n",
      "\n",
      "Let’s connect! I’d love to share how we can sprinkle a little Unilever magic into your life and keep your customers happy.\n",
      "\n",
      "Looking forward to a delightful chat (that hopefully involves ice cream),\n",
      "\n",
      "[Your Name]  \n",
      "[Your Position]  \n",
      "Unilever  \n",
      "[Your Contact Information]  \n",
      "\n",
      "PS: If you need a taste test, I can arrange that—disclaimer: no guarantees on sharing the ice cream afterwards! 🥄🍦\n",
      "\n",
      "\n",
      "Subject: Unbelievable Deals for Your Retail Store!\n",
      "\n",
      "Hi [Recipient's Name],\n",
      "\n",
      "Hope you're not melting in this heat! If you are, I have just the solution – our ice creams might just make you feel like you're on a tropical vacation (without a passport)! 🍦\n",
      "\n",
      "At Unilever, we’re not just about delicious ice creams; we’ve got mouthwatering deals on deodorants that keep you fresh while you scoop and luxurious health care products to pamper your customers!\n",
      "\n",
      "Let’s chat about how our products can help you cool down sales this summer. When’s a good time for a quick call? \n",
      "\n",
      "Stay frosty!  \n",
      "[Your Name]  \n",
      "[Your Position]  \n",
      "Unilever  \n",
      "[Your Contact Information]  \n",
      "\n",
      "\n"
     ]
    }
   ],
   "source": [
    "outputs = [result.final_output for result in results] # results holds list of response from different llms\n",
    "\n",
    "for output in outputs:\n",
    "    print(output + \"\\n\\n\")"
   ]
  },
  {
   "cell_type": "markdown",
   "id": "ff8fe9a3",
   "metadata": {},
   "source": [
    "## Sales Picker Agent\n",
    "\n",
    "- The job of sales picker agent is to identify best cold emails and select that\n",
    "- Now, we are going to use Gemini model as the evaluator"
   ]
  },
  {
   "cell_type": "code",
   "execution_count": 36,
   "id": "20840eb4",
   "metadata": {},
   "outputs": [],
   "source": [
    "GEMINI_BASE_URL = \"https://generativelanguage.googleapis.com/v1beta/openai/\" # url endpoint\n",
    "\n",
    "gemini_client = AsyncOpenAI(base_url = GEMINI_BASE_URL, api_key = GOOGLE_API_KEY)\n",
    "gemini_model = OpenAIChatCompletionsModel(model = \"gemini-2.0-flash\", openai_client = gemini_client)"
   ]
  },
  {
   "cell_type": "code",
   "execution_count": 37,
   "id": "2b3851cd",
   "metadata": {},
   "outputs": [],
   "source": [
    "instructions4 = \"You pick the best cold sales email from the given options. \\\n",
    "    Image you are customer and pick the oone you are most likely to respond to. \\\n",
    "        Do not give an explanation; reply with the selected email only\"\n",
    "\n",
    "sales_picker_agent = Agent(\n",
    "    name = \"Sales Picker Agent\", \n",
    "    instructions = instructions4,\n",
    "    model = gemini_model\n",
    ")"
   ]
  },
  {
   "cell_type": "code",
   "execution_count": null,
   "id": "73b0a2be",
   "metadata": {},
   "outputs": [],
   "source": [
    "input_message = \"Write a cold email message\"\n",
    "with trace(\"Sales_Picker_Response\"):\n",
    "    results = await asyncio.gather(\n",
    "        Runner.run(sales_agent1, input_message),\n",
    "        Runner.run(sales_agent2, input_message),\n",
    "        Runner.run(sales_agent3, input_message)\n",
    "    )\n",
    "\n",
    "    outputs = [result.final_output for result in results]\n",
    "\n",
    "    # Append the output of each response of individual agent \n",
    "    emails = \"Cold email messages : \\n\\n\".join(outputs)    \n",
    "    \n"
   ]
  }
 ],
 "metadata": {
  "kernelspec": {
   "display_name": ".venv_agentic_ai",
   "language": "python",
   "name": "python3"
  },
  "language_info": {
   "codemirror_mode": {
    "name": "ipython",
    "version": 3
   },
   "file_extension": ".py",
   "mimetype": "text/x-python",
   "name": "python",
   "nbconvert_exporter": "python",
   "pygments_lexer": "ipython3",
   "version": "3.13.0"
  }
 },
 "nbformat": 4,
 "nbformat_minor": 5
}
