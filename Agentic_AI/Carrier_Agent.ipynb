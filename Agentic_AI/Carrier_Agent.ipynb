{
 "cells": [
  {
   "cell_type": "code",
   "execution_count": 5,
   "id": "f227b1a3",
   "metadata": {},
   "outputs": [],
   "source": [
    "# Basic Packages \n",
    "from dotenv import load_dotenv\n",
    "# This package is useful to load the environment variables\n",
    "\n",
    "from openai import OpenAI \n",
    "# Package that provide endpoints to utilize the llms\n",
    "\n",
    "import json # json is the best way to communicate with llm's\n",
    "import os\n",
    "import requests\n",
    "\n",
    "from pypdf import PdfReader\n",
    "import gradio as gr # Open source package for building light weight front end application"
   ]
  },
  {
   "cell_type": "code",
   "execution_count": 6,
   "id": "08dc7e9c",
   "metadata": {},
   "outputs": [],
   "source": [
    "# Usual start to load the environment variables\n",
    "load_dotenv(override = True)\n",
    "openai = OpenAI()"
   ]
  },
  {
   "cell_type": "code",
   "execution_count": 8,
   "id": "c4650858",
   "metadata": {},
   "outputs": [],
   "source": [
    "# To get the email notifications we are going to use pushover package\n",
    "pushover_user = os.getenv(\"PUSHOVER_KEY\")\n",
    "pushover_token = os.getenv(\"PUSHOVER_TOKEN\")\n",
    "pushover_url = \"https://api.pushover.net/1/messages.json\""
   ]
  },
  {
   "cell_type": "code",
   "execution_count": 11,
   "id": "42e50e78",
   "metadata": {},
   "outputs": [
    {
     "name": "stdout",
     "output_type": "stream",
     "text": [
      "Push: Hi\n"
     ]
    }
   ],
   "source": [
    "def push(message):\n",
    "    print(f\"Push: {message}\")\n",
    "    payload = {'user':pushover_user, \"token\":pushover_token, \"message\":message}\n",
    "    requests.post(pushover_url, data = payload)\n",
    "\n",
    "# Test Sample\n",
    "push(\"Hi\")"
   ]
  },
  {
   "cell_type": "code",
   "execution_count": null,
   "id": "bf90b791",
   "metadata": {},
   "outputs": [],
   "source": []
  }
 ],
 "metadata": {
  "kernelspec": {
   "display_name": ".venv_agentic_ai",
   "language": "python",
   "name": "python3"
  },
  "language_info": {
   "codemirror_mode": {
    "name": "ipython",
    "version": 3
   },
   "file_extension": ".py",
   "mimetype": "text/x-python",
   "name": "python",
   "nbconvert_exporter": "python",
   "pygments_lexer": "ipython3",
   "version": "3.13.0"
  }
 },
 "nbformat": 4,
 "nbformat_minor": 5
}
