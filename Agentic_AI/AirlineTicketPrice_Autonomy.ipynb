{
 "cells": [
  {
   "cell_type": "code",
   "execution_count": 59,
   "id": "175feff6",
   "metadata": {},
   "outputs": [],
   "source": [
    "# Import basic libraries\n",
    "import os\n",
    "import json\n",
    "import pandas as pd\n",
    "import numpy as np\n",
    "import requests\n",
    "\n",
    "# Agentic Workflow Related libraries\n",
    "from dotenv import load_dotenv\n",
    "from IPython.display import display, Markdown\n",
    "from openai import OpenAI #llm API handler \n",
    "\n",
    "# load env variables\n",
    "load_dotenv(override = True)\n",
    "openai = OpenAI()\n",
    "\n",
    "import gradio as gr"
   ]
  },
  {
   "cell_type": "code",
   "execution_count": 6,
   "id": "c6c6f854",
   "metadata": {},
   "outputs": [],
   "source": [
    "booking_details = pd.read_csv(\"./data/Booking.csv\") # Customer Booking Details\n",
    "fare_details = pd.read_csv(\"./data/flight_fares.csv\") # Flight Fare Details\n",
    "flight_info = pd.read_csv(\"./data/flight_info.csv\") # Flight Details"
   ]
  },
  {
   "cell_type": "markdown",
   "id": "87b7a396",
   "metadata": {},
   "source": [
    "#### PushOver - If the tool call happened"
   ]
  },
  {
   "cell_type": "code",
   "execution_count": 73,
   "id": "17262249",
   "metadata": {},
   "outputs": [],
   "source": [
    "PUSHOVER_USER = os.getenv(\"PUSHOVER_USER\")\n",
    "PUSHOVER_TOKEN = os.getenv(\"PUSHOVER_TOKEN\")\n",
    "PUSHOVER_URL = \"https://api.pushover.net/1/messages.json\"\n",
    "\n",
    "\n",
    "def push(messages):\n",
    "    print(f\"push : {messages}\")\n",
    "    payload = {\"user\":PUSHOVER_USER, \"token\":PUSHOVER_TOKEN, \"message\":messages}\n",
    "    requests.post(PUSHOVER_URL, data = payload)"
   ]
  },
  {
   "cell_type": "code",
   "execution_count": 74,
   "id": "c830d8a4",
   "metadata": {},
   "outputs": [],
   "source": [
    "def information_related_to_customer(name:str, mobile_no:str, flight_no:str):\n",
    "    push(f\"Recording customer details {name}, {mobile_no} and {flight_no}\")\n",
    "    return {'recorded':'ok'}"
   ]
  },
  {
   "cell_type": "code",
   "execution_count": 75,
   "id": "8dae9078",
   "metadata": {},
   "outputs": [],
   "source": [
    "# information_related_to_customer\n",
    "information_related_to_customer_json = {\n",
    "    \"name\":\"information_related_to_customer\",\n",
    "    \"description\": \"Use this tool to capture customer information\",\n",
    "    \"parameters\": {\n",
    "        \"type\" : \"object\",\n",
    "        \"properties\" : {\n",
    "            \"name\":{\n",
    "                \"type\": \"string\",\n",
    "                \"description\": \"name of the customer\"\n",
    "            },\n",
    "            \"mobile_no\":{\n",
    "                \"type\": \"number\",\n",
    "                \"description\": \"Mobile No. of the Customer\"\n",
    "            },\n",
    "            \"flight_no\":{\n",
    "                \"type\": \"string\",\n",
    "                \"description\": \"Flight No that the customer booked\"\n",
    "            }\n",
    "        },\n",
    "        \"required\" : [\"name\", \"mobile_no\"], \n",
    "        \"additionalProperties\": False\n",
    "    }\n",
    "}"
   ]
  },
  {
   "cell_type": "code",
   "execution_count": 76,
   "id": "d90cc74d",
   "metadata": {},
   "outputs": [],
   "source": [
    "tools = [{\"type\":\"function\", \"function\":information_related_to_customer_json}]"
   ]
  },
  {
   "cell_type": "code",
   "execution_count": 68,
   "id": "7b2d2ae9",
   "metadata": {},
   "outputs": [],
   "source": [
    "# system_prompt = f\"You are acting as Pre-flight assistance. Whenever a customer approaches with a question. \"\n",
    "booking_task_llm = \"You are 'booking_task_speciality' Pre-flight Assistant, Your main task to book flights for customers, \\\n",
    "    update flight details only. If you encountered question that is out of the topic, please provide message to user, \\\n",
    "    that I can't assist to your request \"\n",
    "\n",
    "router_system_prompt = f\"You are acting as Pre-flight assistance. Your main task is to understand the question and direct to relevant department \\\n",
    "Before that first, gather information using the tool information_related_to_customer and record the information and save it repository\"\n",
    "\n",
    "system_prompt = [{'role':'system', 'content': router_system_prompt}]\n",
    "user_prompt = system_prompt + [{'role':\"user\", \"content\":\"I want to know about my flights\"}]       "
   ]
  },
  {
   "cell_type": "code",
   "execution_count": 77,
   "id": "9edaf9d7",
   "metadata": {},
   "outputs": [],
   "source": [
    "router_system_prompt = f\"You are acting as Pre-flight assistance. Your main task is to understand the question and direct to relevant department \\\n",
    "Before that first, gather information using the tool information_related_to_customer and record the information and save it repository\""
   ]
  },
  {
   "cell_type": "code",
   "execution_count": null,
   "id": "b483b47b",
   "metadata": {},
   "outputs": [],
   "source": [
    "def handle_tool_calls(tool_calls):\n",
    "    # :param -> tool_calls : Response generated by LLMs\n",
    "    results = []\n",
    "    for tool_call in tool_calls:\n",
    "        tool_name = tool_call.function.name # One of the custom written function we are calling here\n",
    "        arguments = json.loads(tool_call.function.arguments) # All the arguments that we got from llm\n",
    "        print(f\"Tool called: {tool_name}\", flush = True)\n",
    "\n",
    "        # globals() function gets all the functions that are declared in the python environment\n",
    "        tool = globals().get(tool_name)\n",
    "        result = tool(**arguments) if tool else {} \n",
    "        results.append({\"role\": \"tool\", \"content\":json.dumps(result), \"tool_call_id\": tool_call.id})\n",
    "    return results"
   ]
  },
  {
   "cell_type": "code",
   "execution_count": 79,
   "id": "8724e1bc",
   "metadata": {},
   "outputs": [],
   "source": [
    "def chat(message, history):\n",
    "    messages = [{'role':'system', 'content': router_system_prompt}] + \\\n",
    "                history + \\\n",
    "                [{\"role\":\"user\", \"content\": message}]\n",
    "    done = False\n",
    "    while not done:\n",
    "        # Generate the response using gpt-4o-mini llm\n",
    "        response = openai.chat.completions.create(model = \"gpt-4o-mini\", \n",
    "                                                messages = messages, tools = tools)\n",
    "        \n",
    "        # Reason why the model stopped\n",
    "        finish_reason = response.choices[0].finish_reason\n",
    "\n",
    "        if finish_reason == \"tool_calls\":\n",
    "            message = response.choices[0].message\n",
    "            print(message)\n",
    "            tool_calls = message.tool_calls\n",
    "            results = handle_tool_calls(tool_calls)\n",
    "            messages.append(message)\n",
    "        else:\n",
    "            done = True\n",
    "            \n",
    "    return response.choices[0].message.content"
   ]
  },
  {
   "cell_type": "code",
   "execution_count": 80,
   "id": "0d7cfab9",
   "metadata": {},
   "outputs": [
    {
     "name": "stdout",
     "output_type": "stream",
     "text": [
      "* Running on local URL:  http://127.0.0.1:7868\n",
      "* To create a public link, set `share=True` in `launch()`.\n"
     ]
    },
    {
     "data": {
      "text/html": [
       "<div><iframe src=\"http://127.0.0.1:7868/\" width=\"100%\" height=\"500\" allow=\"autoplay; camera; microphone; clipboard-read; clipboard-write;\" frameborder=\"0\" allowfullscreen></iframe></div>"
      ],
      "text/plain": [
       "<IPython.core.display.HTML object>"
      ]
     },
     "metadata": {},
     "output_type": "display_data"
    },
    {
     "data": {
      "text/plain": []
     },
     "execution_count": 80,
     "metadata": {},
     "output_type": "execute_result"
    },
    {
     "name": "stdout",
     "output_type": "stream",
     "text": [
      "ChatCompletionMessage(content=None, refusal=None, role='assistant', annotations=[], audio=None, function_call=None, tool_calls=[ChatCompletionMessageToolCall(id='call_3F6ZhidHWTaqYIUQGaPwKbwE', function=Function(arguments='{\"name\": \"Sans\", \"mobile_no\": 2339449565, \"flight_no\": \"FY12345\"}', name='information_related_to_customer'), type='function')])\n",
      "Tool called: information_related_to_customer\n",
      "push : Recording customer details Sans, 2339449565 and FY12345\n"
     ]
    },
    {
     "name": "stderr",
     "output_type": "stream",
     "text": [
      "Traceback (most recent call last):\n",
      "  File \"/Volumes/Transcend/DeepLearning/.venv_agentic_ai/lib/python3.13/site-packages/gradio/queueing.py\", line 625, in process_events\n",
      "    response = await route_utils.call_process_api(\n",
      "               ^^^^^^^^^^^^^^^^^^^^^^^^^^^^^^^^^^^\n",
      "    ...<5 lines>...\n",
      "    )\n",
      "    ^\n",
      "  File \"/Volumes/Transcend/DeepLearning/.venv_agentic_ai/lib/python3.13/site-packages/gradio/route_utils.py\", line 322, in call_process_api\n",
      "    output = await app.get_blocks().process_api(\n",
      "             ^^^^^^^^^^^^^^^^^^^^^^^^^^^^^^^^^^^\n",
      "    ...<11 lines>...\n",
      "    )\n",
      "    ^\n",
      "  File \"/Volumes/Transcend/DeepLearning/.venv_agentic_ai/lib/python3.13/site-packages/gradio/blocks.py\", line 2147, in process_api\n",
      "    result = await self.call_function(\n",
      "             ^^^^^^^^^^^^^^^^^^^^^^^^^\n",
      "    ...<8 lines>...\n",
      "    )\n",
      "    ^\n",
      "  File \"/Volumes/Transcend/DeepLearning/.venv_agentic_ai/lib/python3.13/site-packages/gradio/blocks.py\", line 1663, in call_function\n",
      "    prediction = await fn(*processed_input)\n",
      "                 ^^^^^^^^^^^^^^^^^^^^^^^^^^\n",
      "  File \"/Volumes/Transcend/DeepLearning/.venv_agentic_ai/lib/python3.13/site-packages/gradio/utils.py\", line 856, in async_wrapper\n",
      "    response = await f(*args, **kwargs)\n",
      "               ^^^^^^^^^^^^^^^^^^^^^^^^\n",
      "  File \"/Volumes/Transcend/DeepLearning/.venv_agentic_ai/lib/python3.13/site-packages/gradio/chat_interface.py\", line 891, in _submit_fn\n",
      "    response = await anyio.to_thread.run_sync(\n",
      "               ^^^^^^^^^^^^^^^^^^^^^^^^^^^^^^^\n",
      "        self.fn, *inputs, limiter=self.limiter\n",
      "        ^^^^^^^^^^^^^^^^^^^^^^^^^^^^^^^^^^^^^^\n",
      "    )\n",
      "    ^\n",
      "  File \"/Volumes/Transcend/DeepLearning/.venv_agentic_ai/lib/python3.13/site-packages/anyio/to_thread.py\", line 56, in run_sync\n",
      "    return await get_async_backend().run_sync_in_worker_thread(\n",
      "           ^^^^^^^^^^^^^^^^^^^^^^^^^^^^^^^^^^^^^^^^^^^^^^^^^^^^\n",
      "        func, args, abandon_on_cancel=abandon_on_cancel, limiter=limiter\n",
      "        ^^^^^^^^^^^^^^^^^^^^^^^^^^^^^^^^^^^^^^^^^^^^^^^^^^^^^^^^^^^^^^^^\n",
      "    )\n",
      "    ^\n",
      "  File \"/Volumes/Transcend/DeepLearning/.venv_agentic_ai/lib/python3.13/site-packages/anyio/_backends/_asyncio.py\", line 2470, in run_sync_in_worker_thread\n",
      "    return await future\n",
      "           ^^^^^^^^^^^^\n",
      "  File \"/Volumes/Transcend/DeepLearning/.venv_agentic_ai/lib/python3.13/site-packages/anyio/_backends/_asyncio.py\", line 967, in run\n",
      "    result = context.run(func, *args)\n",
      "  File \"/var/folders/_p/pgtp_zhj7n3717r3m0prtkdh0000gn/T/ipykernel_15377/435429500.py\", line 8, in chat\n",
      "    response = openai.chat.completions.create(model = \"gpt-4o-mini\",\n",
      "                                            messages = messages, tools = tools)\n",
      "  File \"/Volumes/Transcend/DeepLearning/.venv_agentic_ai/lib/python3.13/site-packages/openai/_utils/_utils.py\", line 287, in wrapper\n",
      "    return func(*args, **kwargs)\n",
      "  File \"/Volumes/Transcend/DeepLearning/.venv_agentic_ai/lib/python3.13/site-packages/openai/resources/chat/completions/completions.py\", line 925, in create\n",
      "    return self._post(\n",
      "           ~~~~~~~~~~^\n",
      "        \"/chat/completions\",\n",
      "        ^^^^^^^^^^^^^^^^^^^^\n",
      "    ...<43 lines>...\n",
      "        stream_cls=Stream[ChatCompletionChunk],\n",
      "        ^^^^^^^^^^^^^^^^^^^^^^^^^^^^^^^^^^^^^^^\n",
      "    )\n",
      "    ^\n",
      "  File \"/Volumes/Transcend/DeepLearning/.venv_agentic_ai/lib/python3.13/site-packages/openai/_base_client.py\", line 1239, in post\n",
      "    return cast(ResponseT, self.request(cast_to, opts, stream=stream, stream_cls=stream_cls))\n",
      "                           ~~~~~~~~~~~~^^^^^^^^^^^^^^^^^^^^^^^^^^^^^^^^^^^^^^^^^^^^^^^^^^^^^\n",
      "  File \"/Volumes/Transcend/DeepLearning/.venv_agentic_ai/lib/python3.13/site-packages/openai/_base_client.py\", line 1034, in request\n",
      "    raise self._make_status_error_from_response(err.response) from None\n",
      "openai.BadRequestError: Error code: 400 - {'error': {'message': \"An assistant message with 'tool_calls' must be followed by tool messages responding to each 'tool_call_id'. The following tool_call_ids did not have response messages: call_3F6ZhidHWTaqYIUQGaPwKbwE\", 'type': 'invalid_request_error', 'param': 'messages', 'code': None}}\n"
     ]
    }
   ],
   "source": [
    "gr.ChatInterface(chat, type = \"messages\").launch()"
   ]
  },
  {
   "cell_type": "code",
   "execution_count": null,
   "id": "f319a249",
   "metadata": {},
   "outputs": [],
   "source": []
  }
 ],
 "metadata": {
  "kernelspec": {
   "display_name": ".venv_agentic_ai",
   "language": "python",
   "name": "python3"
  },
  "language_info": {
   "codemirror_mode": {
    "name": "ipython",
    "version": 3
   },
   "file_extension": ".py",
   "mimetype": "text/x-python",
   "name": "python",
   "nbconvert_exporter": "python",
   "pygments_lexer": "ipython3",
   "version": "3.13.0"
  }
 },
 "nbformat": 4,
 "nbformat_minor": 5
}
